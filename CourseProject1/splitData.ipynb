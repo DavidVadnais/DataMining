{
 "cells": [
  {
   "cell_type": "code",
   "execution_count": 39,
   "metadata": {},
   "outputs": [],
   "source": [
    "import csv\n",
    "import random\n",
    "from sklearn.model_selection import train_test_split\n",
    "import numpy as np"
   ]
  },
  {
   "cell_type": "code",
   "execution_count": 35,
   "metadata": {},
   "outputs": [],
   "source": [
    "# opening the CSV file\n",
    "filename='dataRaw/adult.data'\n",
    "#filename='dataRaw/crx.data'\n",
    "\n",
    "mat = []\n",
    "with open(filename, mode ='r')as file:\n",
    "   \n",
    "  # reading the CSV file\n",
    "  csvFile = csv.reader(file)\n",
    " \n",
    "  # displaying the contents of the CSV file\n",
    "  for lines in csvFile:\n",
    "        mat.append(lines)"
   ]
  },
  {
   "cell_type": "code",
   "execution_count": 37,
   "metadata": {},
   "outputs": [
    {
     "name": "stdout",
     "output_type": "stream",
     "text": [
      "32562\n",
      "6512.400000000001\n",
      "26049.600000000002\n"
     ]
    }
   ],
   "source": [
    "print(len(mat))\n",
    "print(len(mat)*0.2)\n",
    "print(len(mat)*0.8)"
   ]
  },
  {
   "cell_type": "code",
   "execution_count": 41,
   "metadata": {},
   "outputs": [
    {
     "name": "stdout",
     "output_type": "stream",
     "text": [
      "26049\n"
     ]
    }
   ],
   "source": [
    "#randomize\n",
    "X_train, X_test= train_test_split(mat, test_size=0.20, random_state=42)\n",
    "print(len(X_train))"
   ]
  },
  {
   "cell_type": "code",
   "execution_count": 49,
   "metadata": {},
   "outputs": [],
   "source": [
    "filename='dataSplit/census_testset.txt'\n",
    "matSize = len(X_test)\n",
    "\n",
    "f = open(filename, 'w')\n",
    "writer = csv.writer(f)\n",
    "writer.writerows(X_test)\n",
    "\n",
    "f.close()"
   ]
  },
  {
   "cell_type": "code",
   "execution_count": 50,
   "metadata": {},
   "outputs": [],
   "source": [
    "filename='dataSplit/census_trainset.txt'\n",
    "matSize = len(X_train)\n",
    "\n",
    "f = open(filename, 'w')\n",
    "writer = csv.writer(f)\n",
    "writer.writerows(X_train)\n",
    "\n",
    "f.close()"
   ]
  },
  {
   "cell_type": "code",
   "execution_count": 52,
   "metadata": {},
   "outputs": [],
   "source": [
    "# opening the CSV file\n",
    "filename='dataRaw/crx.data'\n",
    "\n",
    "mat = []\n",
    "with open(filename, mode ='r')as file:\n",
    "   \n",
    "  # reading the CSV file\n",
    "  csvFile = csv.reader(file)\n",
    " \n",
    "  # displaying the contents of the CSV file\n",
    "  for lines in csvFile:\n",
    "        mat.append(lines)"
   ]
  },
  {
   "cell_type": "code",
   "execution_count": 56,
   "metadata": {},
   "outputs": [
    {
     "name": "stdout",
     "output_type": "stream",
     "text": [
      "690\n",
      "138.0\n",
      "552.0\n"
     ]
    }
   ],
   "source": [
    "print(len(mat))\n",
    "print(len(mat)*0.2)\n",
    "print(len(mat)*0.8)"
   ]
  },
  {
   "cell_type": "code",
   "execution_count": 53,
   "metadata": {},
   "outputs": [],
   "source": [
    "#randomize\n",
    "X_train, X_test= train_test_split(mat, test_size=0.20, random_state=42)"
   ]
  },
  {
   "cell_type": "code",
   "execution_count": 54,
   "metadata": {},
   "outputs": [],
   "source": [
    "filename='dataSplit/credit_testset.txt'\n",
    "matSize = len(X_test)\n",
    "\n",
    "f = open(filename, 'w')\n",
    "writer = csv.writer(f)\n",
    "writer.writerows(X_test)\n",
    "\n",
    "f.close()"
   ]
  },
  {
   "cell_type": "code",
   "execution_count": 55,
   "metadata": {},
   "outputs": [],
   "source": [
    "filename='dataSplit/credit_trainset.txt'\n",
    "matSize = len(X_train)\n",
    "\n",
    "f = open(filename, 'w')\n",
    "writer = csv.writer(f)\n",
    "writer.writerows(X_train)\n",
    "\n",
    "f.close()"
   ]
  },
  {
   "cell_type": "code",
   "execution_count": null,
   "metadata": {},
   "outputs": [],
   "source": []
  }
 ],
 "metadata": {
  "kernelspec": {
   "display_name": "Python 3",
   "language": "python",
   "name": "python3"
  },
  "language_info": {
   "codemirror_mode": {
    "name": "ipython",
    "version": 3
   },
   "file_extension": ".py",
   "mimetype": "text/x-python",
   "name": "python",
   "nbconvert_exporter": "python",
   "pygments_lexer": "ipython3",
   "version": "3.8.5"
  }
 },
 "nbformat": 4,
 "nbformat_minor": 4
}
