{
 "cells": [
  {
   "cell_type": "code",
   "execution_count": 1,
   "metadata": {},
   "outputs": [],
   "source": [
    "import numpy as np\n",
    "import csv\n",
    "import pandas\n",
    "from sklearn import tree\n",
    "import pydotplus\n",
    "from sklearn import preprocessing\n",
    "import matplotlib.pyplot as plt\n",
    "import matplotlib.image as pltimg\n",
    "from sklearn.naive_bayes import GaussianNB\n",
    "\n",
    "from pydotplus import graph_from_dot_data\n",
    "from IPython.display import Image \n",
    "from six import StringIO \n",
    "from sklearn.tree import export_graphviz\n",
    "from sklearn.model_selection import train_test_split\n",
    "from sklearn.metrics import confusion_matrix"
   ]
  },
  {
   "cell_type": "code",
   "execution_count": 2,
   "metadata": {},
   "outputs": [],
   "source": [
    "training_file = 'dataSplit/credit_trainset.txt'\n",
    "test_file = 'dataSplit/credit_testset.txt'\n",
    "\n",
    "training_file = 'dataSplit/census_trainset.txt'\n",
    "test_file = 'dataSplit/census_testset.txt'"
   ]
  },
  {
   "cell_type": "code",
   "execution_count": 3,
   "metadata": {},
   "outputs": [
    {
     "name": "stdout",
     "output_type": "stream",
     "text": [
      "       0                  1       2              3   4                    5   \\\n",
      "0      33          Local-gov  198183      Bachelors  13        Never-married   \n",
      "1      36            Private   86459      Assoc-voc  11   Married-civ-spouse   \n",
      "2      58   Self-emp-not-inc  203039            9th   5            Separated   \n",
      "3      45          State-gov  231013      Bachelors  13             Divorced   \n",
      "4      27            Private  279872   Some-college  10             Divorced   \n",
      "...    ..                ...     ...            ...  ..                  ...   \n",
      "26043  47            Private  359461      Bachelors  13   Married-civ-spouse   \n",
      "26044  31            Private  147215           12th   8             Divorced   \n",
      "26045  18            Private  216284           11th   7        Never-married   \n",
      "26046  50   Self-emp-not-inc   54261        HS-grad   9   Married-civ-spouse   \n",
      "26047  34       Self-emp-inc  127651      Bachelors  13             Divorced   \n",
      "\n",
      "                     6               7       8        9   10    11  12  \\\n",
      "0        Prof-specialty   Not-in-family   White   Female   0     0  50   \n",
      "1       Exec-managerial         Husband   White     Male   0  1887  50   \n",
      "2          Craft-repair   Not-in-family   White     Male   0     0  40   \n",
      "3       Protective-serv   Not-in-family   White     Male   0     0  40   \n",
      "4         Other-service   Not-in-family   White     Male   0     0  40   \n",
      "...                 ...             ...     ...      ...  ..   ...  ..   \n",
      "26043      Craft-repair         Husband   White     Male   0     0  40   \n",
      "26044     Other-service       Unmarried   White   Female   0     0  21   \n",
      "26045      Adm-clerical       Own-child   White   Female   0     0  20   \n",
      "26046   Farming-fishing         Husband   White     Male   0     0  84   \n",
      "26047   Farming-fishing   Not-in-family   White     Male   0     0  60   \n",
      "\n",
      "                   13      14  \n",
      "0       United-States    >50K  \n",
      "1       United-States    >50K  \n",
      "2       United-States   <=50K  \n",
      "3       United-States   <=50K  \n",
      "4       United-States   <=50K  \n",
      "...               ...     ...  \n",
      "26043   United-States   <=50K  \n",
      "26044   United-States   <=50K  \n",
      "26045   United-States   <=50K  \n",
      "26046   United-States   <=50K  \n",
      "26047   United-States   <=50K  \n",
      "\n",
      "[26048 rows x 15 columns]\n"
     ]
    }
   ],
   "source": [
    "df = pandas.read_csv(training_file, header=None)\n",
    "\n",
    "print(df) "
   ]
  },
  {
   "cell_type": "code",
   "execution_count": 4,
   "metadata": {},
   "outputs": [],
   "source": [
    "x=df.iloc[: , 0:-2]\n",
    "y=df.iloc[: , -1]\n",
    "\n",
    "#make data numeric\n",
    "xn = x.to_numpy()\n",
    "\n",
    "newArray = []\n",
    "\n",
    "for col in range(len(x.columns)):\n",
    "    tmpCol = []\n",
    "    #n = col\n",
    "    for value in range(len(xn)):\n",
    "        s = str(xn[value][col]).lower()\n",
    "        tmpCol.append(hash(s))\n",
    "    \n",
    "    newArray.append(tmpCol)\n",
    "\n",
    "X = pandas.DataFrame({'0': newArray[0]})\n",
    "features = ['0']\n",
    "for i in range(len(x.columns)):\n",
    "    if (i==0):\n",
    "        continue\n",
    "    X.insert(loc=i, column=str(i), value=newArray[i])\n",
    "    features.append(str(i))\n",
    "    \n",
    "#DO Y\n",
    "yn = y.to_numpy()\n",
    "#tmpCol = []\n",
    "#for value in range(len(yn)):\n",
    "#    s = str(yn[value])\n",
    "#    tmpCol.append(hash(s.lower()))\n",
    "d = dict([(ytmp,xtmp+1) for xtmp,ytmp in enumerate(sorted(set(yn[:])))])\n",
    "tmpCol = [d[xtmp] for xtmp in yn[:]]\n",
    "Y = pandas.DataFrame({'0': tmpCol})\n"
   ]
  },
  {
   "cell_type": "code",
   "execution_count": 5,
   "metadata": {},
   "outputs": [],
   "source": [
    "def amIEmpty(stringIn):\n",
    "    ret = True\n",
    "    if (stringIn and stringIn.strip()):\n",
    "        ret = False\n",
    "    return ret"
   ]
  },
  {
   "cell_type": "code",
   "execution_count": 11,
   "metadata": {},
   "outputs": [],
   "source": [
    "yn = np.where(yn=='', \"NULL\",yn)"
   ]
  },
  {
   "cell_type": "code",
   "execution_count": 8,
   "metadata": {},
   "outputs": [
    {
     "data": {
      "text/plain": [
       "array([' >50K', ' >50K', ' <=50K', ..., ' <=50K', ' <=50K', ' <=50K'],\n",
       "      dtype=object)"
      ]
     },
     "execution_count": 8,
     "metadata": {},
     "output_type": "execute_result"
    }
   ],
   "source": [
    "yn"
   ]
  },
  {
   "cell_type": "code",
   "execution_count": 5,
   "metadata": {},
   "outputs": [
    {
     "data": {
      "text/plain": [
       "GaussianNB()"
      ]
     },
     "execution_count": 5,
     "metadata": {},
     "output_type": "execute_result"
    }
   ],
   "source": [
    "nb = GaussianNB()\n",
    "nb.fit(X,Y.to_numpy()[:,0])"
   ]
  },
  {
   "cell_type": "code",
   "execution_count": 6,
   "metadata": {},
   "outputs": [
    {
     "ename": "KeyError",
     "evalue": "'-'",
     "output_type": "error",
     "traceback": [
      "\u001b[0;31m---------------------------------------------------------------------------\u001b[0m",
      "\u001b[0;31mKeyError\u001b[0m                                  Traceback (most recent call last)",
      "\u001b[0;32m<ipython-input-6-7bc1fddaf6cc>\u001b[0m in \u001b[0;36m<module>\u001b[0;34m\u001b[0m\n\u001b[1;32m     32\u001b[0m \u001b[0;31m#    s = str(yn[value])\u001b[0m\u001b[0;34m\u001b[0m\u001b[0;34m\u001b[0m\u001b[0;34m\u001b[0m\u001b[0m\n\u001b[1;32m     33\u001b[0m \u001b[0;31m#    tmpCol.append(hash(s.lower()))\u001b[0m\u001b[0;34m\u001b[0m\u001b[0;34m\u001b[0m\u001b[0;34m\u001b[0m\u001b[0m\n\u001b[0;32m---> 34\u001b[0;31m \u001b[0mtmpCol\u001b[0m \u001b[0;34m=\u001b[0m \u001b[0;34m[\u001b[0m\u001b[0md\u001b[0m\u001b[0;34m[\u001b[0m\u001b[0mxtmp\u001b[0m\u001b[0;34m]\u001b[0m \u001b[0;32mfor\u001b[0m \u001b[0mxtmp\u001b[0m \u001b[0;32min\u001b[0m \u001b[0myn\u001b[0m\u001b[0;34m[\u001b[0m\u001b[0;34m:\u001b[0m\u001b[0;34m]\u001b[0m\u001b[0;34m]\u001b[0m\u001b[0;34m\u001b[0m\u001b[0;34m\u001b[0m\u001b[0m\n\u001b[0m\u001b[1;32m     35\u001b[0m \u001b[0mY_test\u001b[0m \u001b[0;34m=\u001b[0m \u001b[0mpandas\u001b[0m\u001b[0;34m.\u001b[0m\u001b[0mDataFrame\u001b[0m\u001b[0;34m(\u001b[0m\u001b[0;34m{\u001b[0m\u001b[0;34m'0'\u001b[0m\u001b[0;34m:\u001b[0m \u001b[0mtmpCol\u001b[0m\u001b[0;34m}\u001b[0m\u001b[0;34m)\u001b[0m\u001b[0;34m\u001b[0m\u001b[0;34m\u001b[0m\u001b[0m\n",
      "\u001b[0;32m<ipython-input-6-7bc1fddaf6cc>\u001b[0m in \u001b[0;36m<listcomp>\u001b[0;34m(.0)\u001b[0m\n\u001b[1;32m     32\u001b[0m \u001b[0;31m#    s = str(yn[value])\u001b[0m\u001b[0;34m\u001b[0m\u001b[0;34m\u001b[0m\u001b[0;34m\u001b[0m\u001b[0m\n\u001b[1;32m     33\u001b[0m \u001b[0;31m#    tmpCol.append(hash(s.lower()))\u001b[0m\u001b[0;34m\u001b[0m\u001b[0;34m\u001b[0m\u001b[0;34m\u001b[0m\u001b[0m\n\u001b[0;32m---> 34\u001b[0;31m \u001b[0mtmpCol\u001b[0m \u001b[0;34m=\u001b[0m \u001b[0;34m[\u001b[0m\u001b[0md\u001b[0m\u001b[0;34m[\u001b[0m\u001b[0mxtmp\u001b[0m\u001b[0;34m]\u001b[0m \u001b[0;32mfor\u001b[0m \u001b[0mxtmp\u001b[0m \u001b[0;32min\u001b[0m \u001b[0myn\u001b[0m\u001b[0;34m[\u001b[0m\u001b[0;34m:\u001b[0m\u001b[0;34m]\u001b[0m\u001b[0;34m]\u001b[0m\u001b[0;34m\u001b[0m\u001b[0;34m\u001b[0m\u001b[0m\n\u001b[0m\u001b[1;32m     35\u001b[0m \u001b[0mY_test\u001b[0m \u001b[0;34m=\u001b[0m \u001b[0mpandas\u001b[0m\u001b[0;34m.\u001b[0m\u001b[0mDataFrame\u001b[0m\u001b[0;34m(\u001b[0m\u001b[0;34m{\u001b[0m\u001b[0;34m'0'\u001b[0m\u001b[0;34m:\u001b[0m \u001b[0mtmpCol\u001b[0m\u001b[0;34m}\u001b[0m\u001b[0;34m)\u001b[0m\u001b[0;34m\u001b[0m\u001b[0;34m\u001b[0m\u001b[0m\n",
      "\u001b[0;31mKeyError\u001b[0m: '-'"
     ]
    }
   ],
   "source": [
    "df = pandas.read_csv('dataSplit/credit_testset.txt', header=None)\n",
    "\n",
    "x=df.iloc[: , 0:-2]\n",
    "y=df.iloc[: , -1]\n",
    "#make data numeric\n",
    "xn = x.to_numpy()\n",
    "\n",
    "newArray = []\n",
    "\n",
    "for col in range(len(x.columns)):\n",
    "    tmpCol = []\n",
    "    #n = col\n",
    "    for value in range(len(xn)):\n",
    "        s = str(xn[value][col])\n",
    "        tmpCol.append(hash(s.lower()))\n",
    "        \n",
    "    newArray.append(tmpCol)\n",
    "\n",
    "X_test = pandas.DataFrame({'0': newArray[0]})\n",
    "features = ['0']\n",
    "for i in range(len(x.columns)):\n",
    "    if (i==0):\n",
    "        continue\n",
    "    X_test.insert(loc=i, column=str(i), value=newArray[i])\n",
    "    features.append(str(i))\n",
    "    \n",
    "#DO Y\n",
    "yn = y.to_numpy()\n",
    "\n",
    "#tmpCol = []\n",
    "#for value in range(len(yn)):\n",
    "#    s = str(yn[value])\n",
    "#    tmpCol.append(hash(s.lower()))\n",
    "tmpCol = [d[xtmp] for xtmp in yn[:]]\n",
    "Y_test = pandas.DataFrame({'0': tmpCol})\n"
   ]
  },
  {
   "cell_type": "code",
   "execution_count": null,
   "metadata": {},
   "outputs": [],
   "source": [
    "y_pred=nb.predict(X_test)\n",
    "confusion_matrix(Y_test, y_pred)"
   ]
  },
  {
   "cell_type": "code",
   "execution_count": null,
   "metadata": {},
   "outputs": [],
   "source": [
    "val_list = list(d.values())\n",
    "key_list = list(d.keys())\n",
    "Y_test_np = Y_test.to_numpy()\n",
    "misslabeled=0\n",
    "for i in range(len(y_pred)):\n",
    "    thisid = i+1\n",
    "    thispred = key_list[val_list.index(y_pred[i])]\n",
    "    thisTruth = key_list[val_list.index(Y_test_np[i])]\n",
    "    if(y_pred[i] != Y_test_np[i]):\n",
    "        misslabeled += 1\n",
    "    acc = (thisid-misslabeled)/thisid\n",
    "    print('ID='+str(thisid)+\", predicted=\"+thispred+\", true=\"+thisTruth \\\n",
    "          +\", accuracy=\"+str(acc))"
   ]
  },
  {
   "cell_type": "code",
   "execution_count": null,
   "metadata": {},
   "outputs": [],
   "source": []
  }
 ],
 "metadata": {
  "kernelspec": {
   "display_name": "Python 3",
   "language": "python",
   "name": "python3"
  },
  "language_info": {
   "codemirror_mode": {
    "name": "ipython",
    "version": 3
   },
   "file_extension": ".py",
   "mimetype": "text/x-python",
   "name": "python",
   "nbconvert_exporter": "python",
   "pygments_lexer": "ipython3",
   "version": "3.8.5"
  }
 },
 "nbformat": 4,
 "nbformat_minor": 4
}
