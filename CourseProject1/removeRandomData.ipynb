{
 "cells": [
  {
   "cell_type": "code",
   "execution_count": 1,
   "metadata": {},
   "outputs": [],
   "source": [
    "import csv\n",
    "import random\n",
    "from sklearn.model_selection import train_test_split\n",
    "import numpy as np"
   ]
  },
  {
   "cell_type": "code",
   "execution_count": 19,
   "metadata": {},
   "outputs": [],
   "source": [
    "# opening the CSV file\n",
    "filename='dataRaw/crx.data'\n",
    "filenameOut='dataRaw/crx_with_holes.data'\n",
    "\n",
    "mat = []\n",
    "with open(filename, mode ='r')as file:\n",
    "   \n",
    "  # reading the CSV file\n",
    "  csvFile = csv.reader(file)\n",
    " \n",
    "  # displaying the contents of the CSV file\n",
    "  for lines in csvFile:\n",
    "        mat.append(lines)\n",
    "        \n",
    "        \n",
    "DeleteData = 50\n",
    "matSize = len(mat)\n",
    "for i in range(50):\n",
    "    col = random.randint(0, matSize-1)\n",
    "    row = random.randint(0, len(mat[0])-1)\n",
    "    mat[col][row]=''"
   ]
  },
  {
   "cell_type": "code",
   "execution_count": 20,
   "metadata": {},
   "outputs": [],
   "source": [
    "#write hole file\n",
    "f = open(filenameOut, 'w')\n",
    "writer = csv.writer(f)\n",
    "writer.writerows(mat)\n",
    "\n",
    "f.close()"
   ]
  },
  {
   "cell_type": "code",
   "execution_count": 22,
   "metadata": {},
   "outputs": [],
   "source": [
    "#read hole file for splitting\n",
    "# opening the CSV file\n",
    "filename=filenameOut\n",
    "\n",
    "mat = []\n",
    "with open(filename, mode ='r')as file:\n",
    "   \n",
    "  # reading the CSV file\n",
    "  csvFile = csv.reader(file)\n",
    " \n",
    "  # displaying the contents of the CSV file\n",
    "  for lines in csvFile:\n",
    "        mat.append(lines)"
   ]
  },
  {
   "cell_type": "code",
   "execution_count": 23,
   "metadata": {},
   "outputs": [
    {
     "name": "stdout",
     "output_type": "stream",
     "text": [
      "552\n"
     ]
    }
   ],
   "source": [
    "#randomize\n",
    "X_train, X_test= train_test_split(mat, test_size=0.20, random_state=42)\n",
    "print(len(X_train))"
   ]
  },
  {
   "cell_type": "code",
   "execution_count": 24,
   "metadata": {},
   "outputs": [],
   "source": [
    "filename='dataSplit/Task6_credit_testset.txt'\n",
    "matSize = len(X_test)\n",
    "\n",
    "f = open(filename, 'w')\n",
    "writer = csv.writer(f)\n",
    "writer.writerows(X_test)\n",
    "\n",
    "f.close()"
   ]
  },
  {
   "cell_type": "code",
   "execution_count": 32,
   "metadata": {},
   "outputs": [],
   "source": [
    "filename='dataSplit/Task6_credit_trainset.txt'\n",
    "\n",
    "f = open(filename, 'w')\n",
    "writer = csv.writer(f)\n",
    "writer.writerows(X_train)\n",
    "\n",
    "f.close()"
   ]
  },
  {
   "cell_type": "code",
   "execution_count": 31,
   "metadata": {},
   "outputs": [
    {
     "data": {
      "text/plain": [
       "552"
      ]
     },
     "execution_count": 31,
     "metadata": {},
     "output_type": "execute_result"
    }
   ],
   "source": [
    "len(X_train)"
   ]
  },
  {
   "cell_type": "code",
   "execution_count": null,
   "metadata": {},
   "outputs": [],
   "source": []
  }
 ],
 "metadata": {
  "kernelspec": {
   "display_name": "Python 3",
   "language": "python",
   "name": "python3"
  },
  "language_info": {
   "codemirror_mode": {
    "name": "ipython",
    "version": 3
   },
   "file_extension": ".py",
   "mimetype": "text/x-python",
   "name": "python",
   "nbconvert_exporter": "python",
   "pygments_lexer": "ipython3",
   "version": "3.8.5"
  }
 },
 "nbformat": 4,
 "nbformat_minor": 4
}
