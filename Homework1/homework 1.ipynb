{
 "cells": [
  {
   "cell_type": "code",
   "execution_count": 93,
   "id": "1d328b35",
   "metadata": {},
   "outputs": [],
   "source": [
    "import numpy as np\n",
    "import matplotlib.pyplot as plt"
   ]
  },
  {
   "cell_type": "code",
   "execution_count": 188,
   "id": "b3aaaf07",
   "metadata": {},
   "outputs": [],
   "source": [
    "data = [13, 15, 16, 16, 19, 20, 20, 21, 22, 22, 25, 25, 25, 25, \n",
    "        30, 33, 33, 35, 35, 35, 35, 36, 40, 45,46, 52, 70]"
   ]
  },
  {
   "cell_type": "code",
   "execution_count": 189,
   "id": "54a121fe",
   "metadata": {},
   "outputs": [],
   "source": [
    "def mean(numbers):\n",
    "    mySum = 0\n",
    "    for thisNumber in numbers:\n",
    "        mySum += thisNumber\n",
    "    \n",
    "    return mySum/len(numbers)"
   ]
  },
  {
   "cell_type": "code",
   "execution_count": 190,
   "id": "1c738349",
   "metadata": {},
   "outputs": [],
   "source": [
    "def median(numbers):\n",
    "    snumbers = sorted(numbers)\n",
    "    middle = int(len(snumbers)/2)\n",
    "    if (len(numbers)%2 != 0):#odd \n",
    "        return snumbers[middle]\n",
    "    else:\n",
    "        return (snumbers[middle] + numbers[middle-1])/2\n",
    "    "
   ]
  },
  {
   "cell_type": "code",
   "execution_count": 191,
   "id": "b20b0c2a",
   "metadata": {},
   "outputs": [],
   "source": [
    "def q1(numbers):\n",
    "    aMedian = median(numbers)\n",
    "    return numbers[int(((len(numbers)+1)/4))]"
   ]
  },
  {
   "cell_type": "code",
   "execution_count": 192,
   "id": "efbfb541",
   "metadata": {},
   "outputs": [],
   "source": [
    "def q3(numbers):\n",
    "    return numbers[int(((len(numbers)+1)*3/4))]"
   ]
  },
  {
   "cell_type": "code",
   "execution_count": 193,
   "id": "9acec163",
   "metadata": {},
   "outputs": [],
   "source": [
    "def mode(numbers):\n",
    "    myDictionary = {}# dict {number , count}\n",
    "    \n",
    "    for thisNumber in numbers:\n",
    "        myDictionary[thisNumber] = myDictionary.get(thisNumber,0) +1\n",
    "    \n",
    "    top = max(myDictionary.values())\n",
    "    \n",
    "    howManyPeaks = 0\n",
    "    thisList = []\n",
    "    for number, count in myDictionary.items():\n",
    "        #print(\"name: \" ,number, \" count: \",count)\n",
    "        if (count == top):\n",
    "            howManyPeaks += 1\n",
    "            thisList.append(number)\n",
    "\n",
    "    return thisList\n"
   ]
  },
  {
   "cell_type": "code",
   "execution_count": 194,
   "id": "1c70b59d",
   "metadata": {},
   "outputs": [
    {
     "name": "stdout",
     "output_type": "stream",
     "text": [
      "the mean is  29.962962962962962\n",
      "the median is  25\n",
      "the mode is  [25, 35]\n",
      "the q1 is  21\n",
      "the q3 is  36\n",
      "the min is  13\n",
      "the max is  70\n"
     ]
    }
   ],
   "source": [
    "#driver\n",
    "\n",
    "aMean = mean(data)\n",
    "print(\"the mean is \" , aMean)\n",
    "\n",
    "aMedian = median(data)\n",
    "print(\"the median is \" , aMedian)\n",
    "\n",
    "aMode = mode(data)\n",
    "print(\"the mode is \" , aMode)\n",
    "\n",
    "aq1 = q1(data)\n",
    "print(\"the q1 is \" , aq1)#20.5\n",
    "\n",
    "aq3 = q3(data)\n",
    "print(\"the q3 is \" , aq3)#35\n",
    "\n",
    "print(\"the min is \" , min(data))#35\n",
    "print(\"the max is \" , max(data))#35\n"
   ]
  },
  {
   "cell_type": "code",
   "execution_count": 94,
   "id": "2f49bdcc",
   "metadata": {},
   "outputs": [
    {
     "data": {
      "image/png": "[encoded data removed]",
      "text/plain": [
       "<Figure size 432x288 with 1 Axes>"
      ]
     },
     "metadata": {
      "needs_background": "light"
     },
     "output_type": "display_data"
    }
   ],
   "source": [
    "plt.boxplot(data)\n",
    "plt.show()"
   ]
  },
  {
   "cell_type": "code",
   "execution_count": 183,
   "id": "22b7467c",
   "metadata": {},
   "outputs": [],
   "source": [
    "threeDMax = [0.814102492,0.813621567,0.837803087,0.884940199,0.877041883,\n",
    "0.859534182,0.830665735,0.881768757,0.87626118,0.856736255,0.841230581,0.851892957,0.867383432,0.881965904,\n",
    "0.871448337,0.866727134,0.83017034,0.856242545,0.861872089,0.877643617,0.920786384,0.872886391,0.878742565]\n",
    "LorDG =[0.777194373,0.777538274,0.770454362,0.878532687,0.862151096,\n",
    "0.829818105,0.798790212,0.861752213,0.840972832,0.824618349,0.808859457,0.819727285,0.840077056,0.813496136,\n",
    "0.830323238,0.788029869,0.766565944,0.817562874,0.815141153,0.82283662,0.878305902,0.763239881,0.874455762]\n",
    "\n",
    "ShNeigh2 = [0.698225414,0.747572568,0.720008492,0.86791376,0.841163842,\n",
    "0.772470936,0.76254506,0.831940359,0.746826564,0.761287418,0.69028024,0.767227128,0.78372401,0.620457587,\n",
    "0.689074742,0.662148418,0.602634335,0.744066759,0.597254155,0.642785561,0.792785159,0.633150342,0.854162122]\n",
    "\n",
    "Chromosome3D = [0.766,0.777,0.795,0.861,0.852,0.826,0.788,0.852,0.803,0.825,\n",
    "0.808,0.83,0.791,0.8,0.807,0.788,0.76,0.815,0.827,0.843,0.863,0.809,0.804]\n",
    "HSA=[0.741951816,0.754669462,0.78290956,0.871315788,0.851475568,\n",
    "0.813031772,0.788436774,0.853537768,0.521889059,0.804888328,0.791621627,\n",
    "0.805482936,0.822652737,0.799115946,0.80661521,0.806632018,0.72770912,\n",
    "0.800800322,0.802493463,0.828791598,0.913868944,0.830617256,0.866742995]\n",
    "ChromeBat=[0.801017424,0.78773319,0.826161388,0.864169052,0.864943758,\n",
    "0.835211755,0.823470031,0.871247459,0.837529292,0.852688073,0.838961086,\n",
    "0.855582767,0.868645744,0.889928286,0.86966815,0.870228275,0.831012149,\n",
    "0.860491375,0.866458315,0.890406712,0.943462868,0.893232298,0.867553795]"
   ]
  },
  {
   "cell_type": "code",
   "execution_count": 184,
   "id": "fa85802a",
   "metadata": {},
   "outputs": [],
   "source": [
    "def std(numbers):\n",
    "    numbers = sorted(numbers)\n",
    "    amean = mean(numbers)\n",
    "    asum = 0\n",
    "    for x in numbers:\n",
    "        asum+=(x - amean)**2\n",
    "        \n",
    "    return np.sqrt(asum / len(numbers))"
   ]
  },
  {
   "cell_type": "code",
   "execution_count": 185,
   "id": "b15b7a9e",
   "metadata": {},
   "outputs": [
    {
     "name": "stdout",
     "output_type": "stream",
     "text": [
      "threeDMax LorDG Shneigh2 Chromosome3d hsa chrombat\n",
      "{0.8613681570869566, 0.8200192904347827, 0.7317263030869566, 0.7994456550869565, 0.8126086956521739, 0.8569479670434784}\n",
      "threeDMax LorDG Shneigh2 Chromosome3d hsa chrombat\n",
      "{0.866727134, 0.819727285, 0.746826564, 0.805482936, 0.808, 0.864169052}\n",
      "threeDMax LorDG Shneigh2 Chromosome3d hsa chrombat\n",
      "{0.02448753816919791, 0.035028748066985874, 0.07850725710464285, 0.07196208463616, 0.032217241681521055, 0.028240795546182553}\n"
     ]
    }
   ],
   "source": [
    "means = {mean(threeDMax),mean( LorDG),mean(ShNeigh2)\n",
    "         ,mean(Chromosome3D),mean(HSA),mean(ChromeBat)}\n",
    "print(\"threeDMax LorDG Shneigh2 Chromosome3d hsa chrombat\")\n",
    "print(means)\n",
    "\n",
    "medians = {median(threeDMax),median( LorDG),median(ShNeigh2)\n",
    "         ,median(Chromosome3D),median(HSA),median(ChromeBat)}\n",
    "print(\"threeDMax LorDG Shneigh2 Chromosome3d hsa chrombat\")\n",
    "print(medians)\n",
    "\n",
    "stds = {std(threeDMax),std( LorDG),std(ShNeigh2)\n",
    "         ,std(Chromosome3D),std(HSA),std(ChromeBat)}\n",
    "print(\"threeDMax LorDG Shneigh2 Chromosome3d hsa chrombat\")\n",
    "print(stds)"
   ]
  },
  {
   "cell_type": "code",
   "execution_count": 186,
   "id": "dc167900",
   "metadata": {},
   "outputs": [
    {
     "data": {
      "image/png": "[encoded data removed]",
      "text/plain": [
       "<Figure size 432x288 with 1 Axes>"
      ]
     },
     "metadata": {
      "needs_background": "light"
     },
     "output_type": "display_data"
    }
   ],
   "source": [
    "all_data = [threeDMax,LorDG,ShNeigh2,Chromosome3D,HSA,ChromeBat]\n",
    "labels = [\"threeDMax\",\"LorDG\",\"ShNeigh2\",\"Chromosome3D\",\"HSA\",\"ChromeBat\"]\n",
    "\n",
    "plt.boxplot(all_data, vert=False, patch_artist=True, labels=labels) \n",
    "plt.ylabel('dSCC')\n",
    "plt.title('Multiple Box Plot : dSCC')  \n",
    "plt.show()"
   ]
  },
  {
   "cell_type": "code",
   "execution_count": 187,
   "id": "97868467",
   "metadata": {},
   "outputs": [
    {
     "data": {
      "image/png": "[encoded data removed]",
      "text/plain": [
       "<Figure size 432x288 with 1 Axes>"
      ]
     },
     "metadata": {
      "needs_background": "light"
     },
     "output_type": "display_data"
    }
   ],
   "source": [
    "y=range(1,23+1)\n",
    "plt.scatter(y,threeDMax,c='b',marker = 'x' ,label=\"threeDMax\") \n",
    "plt.scatter(y,ChromeBat,c='r',marker = 'x' ,label=\"ChromeBat\") \n",
    "plt.scatter(y,ShNeigh2,c='g',marker = 'x' ,label=\"ShNeigh2\") \n",
    "\n",
    "plt.title('Scatter')  \n",
    "plt.xlabel(\"chromosome\")\n",
    "plt.ylabel(\"dscc\")\n",
    "plt.legend(loc='upper left')\n",
    "plt.show()"
   ]
  },
  {
   "cell_type": "code",
   "execution_count": null,
   "id": "8f5f1cb9",
   "metadata": {},
   "outputs": [],
   "source": []
  },
  {
   "cell_type": "code",
   "execution_count": null,
   "id": "65c1bae7",
   "metadata": {},
   "outputs": [],
   "source": []
  },
  {
   "cell_type": "code",
   "execution_count": null,
   "id": "fef234fa",
   "metadata": {},
   "outputs": [],
   "source": []
  }
 ],
 "metadata": {
  "kernelspec": {
   "display_name": "Python 3",
   "language": "python",
   "name": "python3"
  },
  "language_info": {
   "codemirror_mode": {
    "name": "ipython",
    "version": 3
   },
   "file_extension": ".py",
   "mimetype": "text/x-python",
   "name": "python",
   "nbconvert_exporter": "python",
   "pygments_lexer": "ipython3",
   "version": "3.9.5"
  }
 },
 "nbformat": 4,
 "nbformat_minor": 5
}
