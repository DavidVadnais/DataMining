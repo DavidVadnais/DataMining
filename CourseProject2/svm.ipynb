{
 "cells": [
  {
   "cell_type": "code",
   "execution_count": 1,
   "id": "9a8035a0",
   "metadata": {},
   "outputs": [],
   "source": [
    "from sklearn.svm import LinearSVC\n",
    "from sklearn.pipeline import Pipeline\n",
    "from sklearn import metrics\n",
    "from sklearn.feature_extraction.text import CountVectorizer\n",
    "from sklearn.feature_extraction.text import TfidfTransformer\n",
    "import timeit\n",
    "\n",
    "from keras.preprocessing.text import Tokenizer\n",
    "from sklearn.feature_extraction.text import CountVectorizer\n",
    "import glob\n",
    "import pandas as pd\n",
    "import numpy as np\n",
    "from math import sqrt\n",
    "\n",
    "import nltk\n",
    "from nltk.corpus import stopwords\n",
    "from nltk.tokenize import word_tokenize\n",
    "\n",
    "from collections import defaultdict"
   ]
  },
  {
   "cell_type": "code",
   "execution_count": 2,
   "id": "f9322336",
   "metadata": {},
   "outputs": [],
   "source": [
    "root_dir='./20_newsgroups_Train'\n",
    "\n",
    "# root_dir needs a trailing slash (i.e. /root/dir/)\n",
    "i = 0\n",
    "train = []#pd.DataFrame(columns=['folder', 'fileName'])\n",
    "for filename in glob.iglob(root_dir + '**/**/*', recursive=True):\n",
    "    if i > 19:\n",
    "        for j, c in enumerate(filename[22:]):\n",
    "            if c.isdigit():\n",
    "                bs = j\n",
    "                #print(bs)\n",
    "                break\n",
    "        #print(filename[22:])\n",
    "        #print(filename[22:22+bs-1])#lable\n",
    "        label = filename[22:22+bs-1]\n",
    "        #print(filename[22+bs:])#filename\n",
    "        filenametmp = filename[22+bs:]\n",
    "        train.append([label,filenametmp])\n",
    "    #print(filename)\n",
    "    i+=1\n",
    "    \n",
    "root_dirTest='./20_newsgroups_Test'\n",
    "\n",
    "# root_dir needs a trailing slash (i.e. /root/dir/)\n",
    "i = 0\n",
    "test = []#pd.DataFrame(columns=['folder', 'fileName'])\n",
    "for filename in glob.iglob(root_dirTest + '**/**/*', recursive=True):\n",
    "    if i > 19:\n",
    "        for j, c in enumerate(filename[21:]):\n",
    "            if c.isdigit():\n",
    "                bs = j\n",
    "                #print(bs)\n",
    "                break\n",
    "        #print(filename[22:])\n",
    "        #print(filename[22:22+bs-1])#lable\n",
    "        label = filename[21:21+bs-1]\n",
    "        #print(filename[22+bs:])#filename\n",
    "        filenametmp = filename[21+bs:]\n",
    "        test.append([label,filenametmp])\n",
    "    #print(filename)\n",
    "    i+=1"
   ]
  },
  {
   "cell_type": "code",
   "execution_count": 3,
   "id": "196b3fa0",
   "metadata": {},
   "outputs": [],
   "source": [
    "allDocsAsStringsTrain=[]\n",
    "allDocsAsStringsNoLabelsTrain = []\n",
    "lastrow=\"\"\n",
    "\n",
    "category = -1\n",
    "ytest = []\n",
    "ytrain = []\n",
    "for row in train:\n",
    "    fileToOpen= root_dir+'/'+row[0]+'/'+row[1]\n",
    "    \n",
    "    file=open(fileToOpen,\"r\")\n",
    "    tmp = file.read().lower()#text_cleaner(file.read()).lower()\n",
    "    \n",
    "    if (row[0]!= lastrow):\n",
    "        lastrow = row[0]\n",
    "        category += 1\n",
    "    allDocsAsStringsTrain.append([row[0],row[1],tmp])\n",
    "    ytrain.append(category)\n",
    "    allDocsAsStringsNoLabelsTrain.append(tmp)\n",
    "    file.close()\n",
    "    \n",
    "allDocsAsStringsTest=[]\n",
    "allDocsAsStringsNoLabelsTest = []\n",
    "lastrow=\"\"\n",
    "category = -1\n",
    "for row in test:\n",
    "    fileToOpen= root_dirTest+'/'+row[0]+'/'+row[1]\n",
    "    if (row[0]!= lastrow):\n",
    "        lastrow = row[0]\n",
    "        category+=1\n",
    "    \n",
    "    #print(fileToOpen)\n",
    "    file=open(fileToOpen,\"r\")\n",
    "    tmp = file.read().lower()#text_cleaner(file.read()).lower()\n",
    "    ytest.append(category)\n",
    "    allDocsAsStringsTest.append([row[0],row[1],tmp])\n",
    "    allDocsAsStringsNoLabelsTest.append(tmp)\n",
    "    file.close()"
   ]
  },
  {
   "cell_type": "code",
   "execution_count": 4,
   "id": "05f9d085",
   "metadata": {},
   "outputs": [],
   "source": [
    "corpus = []\n",
    "i=0\n",
    "#ytrain = []\n",
    "for doc in allDocsAsStringsNoLabelsTrain:\n",
    "    corpus.append(''.join((element for element in doc if not (element.isdigit() or element =='_'))))\n",
    "    #if i%10 == 0:\n",
    "    #    print(doc)\n",
    "    #ytrain.append(allDocsAsStringsTrain[i][3])\n",
    "    i=+1\n",
    "    \n",
    "#ytest = []  \n",
    "corpusTest = []\n",
    "i=0\n",
    "for doc in allDocsAsStringsNoLabelsTest:\n",
    "    corpusTest.append(''.join((element for element in doc if not (element.isdigit() or element =='_'))))\n",
    "    #ytest.append(allDocsAsStringsTest[i][3])\n",
    "\n",
    "    i=+1\n",
    "ytrain=np.array(ytrain)\n",
    "ytest =np.array(ytest)\n"
   ]
  },
  {
   "cell_type": "code",
   "execution_count": 6,
   "id": "784f3a18",
   "metadata": {},
   "outputs": [],
   "source": [
    "wordLimit=10000"
   ]
  },
  {
   "cell_type": "code",
   "execution_count": 7,
   "id": "dc55cd08",
   "metadata": {},
   "outputs": [
    {
     "data": {
      "text/plain": [
       "Pipeline(steps=[('vect',\n",
       "                 CountVectorizer(max_features=10000, stop_words='english')),\n",
       "                ('tfidf', TfidfTransformer()), ('clf', LinearSVC())])"
      ]
     },
     "execution_count": 7,
     "metadata": {},
     "output_type": "execute_result"
    }
   ],
   "source": [
    "text_clf = Pipeline([('vect', CountVectorizer(stop_words='english', lowercase=True,max_features=wordLimit)),\n",
    "                     ('tfidf', TfidfTransformer()),\n",
    "                     ('clf', LinearSVC()),\n",
    "                     ])\n",
    "\n",
    "text_clf.fit(corpus, ytrain)\n",
    "\n"
   ]
  },
  {
   "cell_type": "code",
   "execution_count": 8,
   "id": "8749f15d",
   "metadata": {},
   "outputs": [],
   "source": [
    "start = timeit.default_timer()\n",
    "predicted = text_clf.predict(corpusTest)\n",
    "stop = timeit.default_timer()"
   ]
  },
  {
   "cell_type": "code",
   "execution_count": 9,
   "id": "6ec58c57",
   "metadata": {},
   "outputs": [
    {
     "name": "stdout",
     "output_type": "stream",
     "text": [
      "2.0315942999999947\n"
     ]
    }
   ],
   "source": [
    "elapsed = stop-start\n",
    "print(elapsed)"
   ]
  },
  {
   "cell_type": "code",
   "execution_count": 10,
   "id": "a158594f",
   "metadata": {},
   "outputs": [
    {
     "data": {
      "text/plain": [
       "array([ 0,  0,  0, ..., 19, 19,  0])"
      ]
     },
     "execution_count": 10,
     "metadata": {},
     "output_type": "execute_result"
    }
   ],
   "source": [
    "predicted"
   ]
  },
  {
   "cell_type": "code",
   "execution_count": 11,
   "id": "81a47000",
   "metadata": {},
   "outputs": [],
   "source": [
    "cases = len(predicted)\n",
    "\n",
    "index = 0\n",
    "right = 0\n",
    "wrong = 0\n",
    "recalls = np.zeros([category+1,2])\n",
    "for i in predicted:\n",
    "    j=-1\n",
    "    \n",
    "    pred = i\n",
    "    \n",
    "    if pred == int(ytest[index]):\n",
    "        recalls[pred][0]+=1\n",
    "        right +=1\n",
    "    else:\n",
    "        recalls[pred][1]+=1\n",
    "        wrong+=1\n",
    "    index+=1"
   ]
  },
  {
   "cell_type": "code",
   "execution_count": 12,
   "id": "6774c534",
   "metadata": {},
   "outputs": [],
   "source": [
    "rec = 0\n",
    "for row in recalls:\n",
    "    rec+=(row[0]/(row[0]+row[1])) \n",
    "rec = rec/(category+1)"
   ]
  },
  {
   "cell_type": "code",
   "execution_count": 13,
   "id": "e3b99ac3",
   "metadata": {},
   "outputs": [
    {
     "name": "stdout",
     "output_type": "stream",
     "text": [
      "681\n",
      "0.943240540090015\n"
     ]
    }
   ],
   "source": [
    "print(wrong)\n",
    "print(right/(right+wrong))"
   ]
  },
  {
   "cell_type": "code",
   "execution_count": 14,
   "id": "cb896528",
   "metadata": {},
   "outputs": [
    {
     "data": {
      "text/plain": [
       "0.9442626392867256"
      ]
     },
     "execution_count": 14,
     "metadata": {},
     "output_type": "execute_result"
    }
   ],
   "source": [
    "rec"
   ]
  },
  {
   "cell_type": "code",
   "execution_count": null,
   "id": "914bcb1e",
   "metadata": {},
   "outputs": [],
   "source": []
  }
 ],
 "metadata": {
  "kernelspec": {
   "display_name": "Python 3",
   "language": "python",
   "name": "python3"
  },
  "language_info": {
   "codemirror_mode": {
    "name": "ipython",
    "version": 3
   },
   "file_extension": ".py",
   "mimetype": "text/x-python",
   "name": "python",
   "nbconvert_exporter": "python",
   "pygments_lexer": "ipython3",
   "version": "3.9.5"
  }
 },
 "nbformat": 4,
 "nbformat_minor": 5
}
