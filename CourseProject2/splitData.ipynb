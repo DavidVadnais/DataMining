{
 "cells": [
  {
   "cell_type": "code",
   "execution_count": 9,
   "metadata": {},
   "outputs": [],
   "source": [
    "import csv\n",
    "import random\n",
    "from sklearn.model_selection import train_test_split\n",
    "import numpy as np\n",
    "import pandas as pd\n",
    "import os"
   ]
  },
  {
   "cell_type": "code",
   "execution_count": 28,
   "metadata": {},
   "outputs": [],
   "source": [
    "import glob\n",
    "\n",
    "root_dir='./20_newsgroups'\n",
    "\n",
    "# root_dir needs a trailing slash (i.e. /root/dir/)\n",
    "i = 0\n",
    "test = []#pd.DataFrame(columns=['folder', 'fileName'])\n",
    "for filename in glob.iglob(root_dir + '**/**/*', recursive=True):\n",
    "    if i > 19:\n",
    "        for j, c in enumerate(filename[16:]):\n",
    "            if c.isdigit():\n",
    "                bs = j\n",
    "                #print(bs)\n",
    "                break\n",
    "        #print(filename[16:])\n",
    "        #print(filename[16:16+bs-1])#lable\n",
    "        label = filename[16:16+bs-1]\n",
    "        #print(filename[16+bs:])#filename\n",
    "        filenametmp = filename[16+bs:]\n",
    "        test.append([label,filenametmp])\n",
    "    #print(filename)\n",
    "    i+=1"
   ]
  },
  {
   "cell_type": "code",
   "execution_count": 49,
   "metadata": {},
   "outputs": [],
   "source": [
    "allDocsAsStrings=[]\n",
    "for row in test:\n",
    "    fileToOpen= root_dir+'/'+row[0]+'/'+row[1]\n",
    "    file=open(fileToOpen,\"r\")\n",
    "    allDocsAsStrings.append([row[0],row[1],file.read()])\n",
    "    file.close()"
   ]
  },
  {
   "cell_type": "code",
   "execution_count": 50,
   "metadata": {},
   "outputs": [
    {
     "name": "stdout",
     "output_type": "stream",
     "text": [
      "19997\n"
     ]
    }
   ],
   "source": [
    "X_train, X_test= train_test_split(allDocsAsStrings, test_size=0.40, random_state=42)\n",
    "print(len(allDocsAsStrings))"
   ]
  },
  {
   "cell_type": "code",
   "execution_count": 48,
   "metadata": {},
   "outputs": [
    {
     "name": "stdout",
     "output_type": "stream",
     "text": [
      "20\n"
     ]
    }
   ],
   "source": [
    "\n",
    "root_dirTrain = '20_newsgroups_Train/'\n",
    "folders = ['alt.atheism',  'rec.autos'  ,         'sci.space',\n",
    "'comp.graphics', 'rec.motorcycles',     'soc.religion.christian',\n",
    "'comp.os.ms-windows.misc',   'rec.sport.baseball',  'talk.politics.guns',\n",
    "'comp.sys.ibm.pc.hardware',  'rec.sport.hockey',    'talk.politics.mideast',\n",
    "'comp.sys.mac.hardware',     'sci.crypt',           'talk.politics.misc',\n",
    "'comp.windows.x',            'sci.electronics',     'talk.religion.misc',\n",
    "'misc.forsale', 'sci.med']\n",
    "print(len(folders))\n",
    "for folder in folders:\n",
    "    os.mkdir(root_dirTrain+folder)"
   ]
  },
  {
   "cell_type": "code",
   "execution_count": 53,
   "metadata": {},
   "outputs": [],
   "source": [
    "root_dirTest = '20_newsgroups_Test/'\n",
    "for folder in folders:\n",
    "    os.mkdir(root_dirTest+folder)"
   ]
  },
  {
   "cell_type": "code",
   "execution_count": 51,
   "metadata": {},
   "outputs": [],
   "source": [
    "\n",
    "for thisFile in X_test:\n",
    "    fileToOpen= root_dirTrain+thisFile[0]+'/'+thisFile[1]\n",
    "    file=open(fileToOpen,\"w\")\n",
    "    file.write(thisFile[2])\n",
    "    file.close()\n"
   ]
  },
  {
   "cell_type": "code",
   "execution_count": 54,
   "metadata": {},
   "outputs": [],
   "source": [
    "\n",
    "for thisFile in X_train:\n",
    "    fileToOpen= root_dirTest+thisFile[0]+'/'+thisFile[1]\n",
    "    file=open(fileToOpen,\"w\")\n",
    "    file.write(thisFile[2])\n",
    "    file.close()\n"
   ]
  },
  {
   "cell_type": "code",
   "execution_count": null,
   "metadata": {},
   "outputs": [],
   "source": []
  }
 ],
 "metadata": {
  "kernelspec": {
   "display_name": "Python 3",
   "language": "python",
   "name": "python3"
  },
  "language_info": {
   "codemirror_mode": {
    "name": "ipython",
    "version": 3
   },
   "file_extension": ".py",
   "mimetype": "text/x-python",
   "name": "python",
   "nbconvert_exporter": "python",
   "pygments_lexer": "ipython3",
   "version": "3.9.5"
  }
 },
 "nbformat": 4,
 "nbformat_minor": 4
}
